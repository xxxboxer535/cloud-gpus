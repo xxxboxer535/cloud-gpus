{
  "nbformat": 4,
  "nbformat_minor": 0,
  "metadata": {
    "colab": {
      "name": "Copy of youtube-dl toolbox.ipynb",
      "provenance": [],
      "collapsed_sections": [],
      "toc_visible": true,
      "include_colab_link": true
    },
    "kernelspec": {
      "name": "python3",
      "display_name": "Python 3"
    }
  },
  "cells": [
    {
      "cell_type": "markdown",
      "metadata": {
        "id": "view-in-github",
        "colab_type": "text"
      },
      "source": [
        "<a href=\"https://colab.research.google.com/github/xxxboxer535/cloud-gpus/blob/master/Copy_of_youtube_dl_toolbox.ipynb\" target=\"_parent\"><img src=\"https://colab.research.google.com/assets/colab-badge.svg\" alt=\"Open In Colab\"/></a>"
      ]
    },
    {
      "cell_type": "code",
      "metadata": {
        "id": "qOKysSYyVPWI"
      },
      "source": [
        "#@title Video + Playlist Downloder - Simple Mode { vertical-output: true }\n",
        "#url = \"https://www.youtube.com/playlist?list=PLM9L_dc48Wr-CjYe9YFlJ9GXZmg7CPZS3\" #@param {type:\"string\"}\n",
        "url = \"https://www.youtube.com/watch?v=vYIOAUtA3Oo\" #@param {type:\"string\"}\n",
        "\n",
        "# max_filesize_mb = 1000 #@param { type: 'slider', min: 1, max: 1000}\n",
        "playlist_start = 1 #@param { type: 'number' }\n",
        "playlist_end = 10 #@param { type: 'number' }\n",
        "remove_everything = True #@param { type: 'boolean' }\n",
        "start_downloading_immediately = True #@param { type: 'boolean' }\n",
        "\n",
        "\n",
        "# Install + Import + Config\n",
        "try: import youtube_dl\n",
        "except:\n",
        "    ! pip install youtube-dl\n",
        "\n",
        "if remove_everything:\n",
        "    ! rm -rf *\n",
        "\n",
        "import youtube_dl\n",
        "import google\n",
        "\n",
        "\n",
        "# Download\n",
        "# with youtube_dl.YoutubeDL({\n",
        "#     'outtmpl': '%(title)s.%(ext)s',\n",
        "#     'format': '18',\n",
        "#     'playlist-start': playlist_start,\n",
        "#     'playlist-end': playlist_end,\n",
        "#     'max-filesize': f'{max_filesize_mb}M'\n",
        "# }).download(urls.split());\n",
        "\n",
        "#! youtube-dl {url} --playlist-start {playlist_start} --playlist-end {playlist_end} --format 18\n",
        "description = ! youtube-dl {url} --get-description --skip-download \n",
        "\n",
        "    \n",
        "\n",
        "\n",
        "# \n",
        "#! zip archive.zip *\n",
        "\n",
        "#if start_downloading_immediately:\n",
        "#    google.colab.files.download('archive.zip')"
      ],
      "execution_count": 8,
      "outputs": []
    },
    {
      "cell_type": "code",
      "metadata": {
        "colab": {
          "base_uri": "https://localhost:8080/"
        },
        "id": "koDMGz2s1A2I",
        "outputId": "684d8477-6003-48e3-f04d-7b456a839b91"
      },
      "source": [
        "with youtube_dl.YoutubeDL(dict(forceurl=True)) as ydl:\n",
        "    r = ydl.extract_info(url, download=False)\n",
        "    media_url = r['formats'][-1]['url']\n"
      ],
      "execution_count": 10,
      "outputs": [
        {
          "output_type": "stream",
          "name": "stdout",
          "text": [
            "[youtube] vYIOAUtA3Oo: Downloading webpage\n",
            "https://r6---sn-qxo7rn7l.googlevideo.com/videoplayback?expire=1635696793&ei=OWx-YZalMYHMuALP8qi4BA&ip=34.71.246.229&id=o-ANLLTvYNLoiZKTmG1auACS0lbhkNG3QX_cRANKdr9nT0&itag=22&source=youtube&requiressl=yes&mh=fx&mm=31%2C26&mn=sn-qxo7rn7l%2Csn-5goeen7y&ms=au%2Conr&mv=m&mvi=6&pl=20&initcwndbps=908750&vprv=1&mime=video%2Fmp4&ns=AnNyL17GU5RauZBdGmlv7cMG&cnr=14&ratebypass=yes&dur=1264.628&lmt=1635558433497646&mt=1635674929&fvip=3&fexp=24001373%2C24007246&c=WEB&txp=5532434&n=IcydX9nY6Z1SCTUk&sparams=expire%2Cei%2Cip%2Cid%2Citag%2Csource%2Crequiressl%2Cvprv%2Cmime%2Cns%2Ccnr%2Cratebypass%2Cdur%2Clmt&sig=AOq0QJ8wRQIgD-PUc4_Xly7fhJUzk-G93CCCNAkxLZej8KxEpyHXklsCIQD-D9wLQfmlmVPybxQ79Agt54MjmNG21HjLuKuKw5Mcsg%3D%3D&lsparams=mh%2Cmm%2Cmn%2Cms%2Cmv%2Cmvi%2Cpl%2Cinitcwndbps&lsig=AG3C_xAwRQIgHmoQGPc8zvruIJvzuX3P2A1aBNpUseG6Yrri-qnKjAgCIQDO1ndrS9Y5A2pZ2-83JbM_uOpguHdP_XE6E5kZeCSMwA%3D%3D\n"
          ]
        }
      ]
    },
    {
      "cell_type": "code",
      "metadata": {
        "id": "w-zMRrNaNiSl",
        "colab": {
          "base_uri": "https://localhost:8080/"
        },
        "outputId": "95f903e7-cd32-4727-a9cf-4739c902b2d2"
      },
      "source": [
        "! youtube-dl https://www.youtube.com/playlist?list=PLM9L_dc48Wr-CjYe9YFlJ9GXZmg7CPZS3 --playlist-start 1 --playlist-end 5"
      ],
      "execution_count": null,
      "outputs": [
        {
          "output_type": "stream",
          "text": [
            "[youtube:tab] PLM9L_dc48Wr-CjYe9YFlJ9GXZmg7CPZS3: Downloading webpage\n",
            "[download] Downloading playlist: Guyton and Hall Medical physiology\n",
            "[youtube:tab] playlist Guyton and Hall Medical physiology: Downloading 5 videos\n",
            "[download] Downloading video 1 of 5\n",
            "[youtube] 7ODgYpdTKaY: Downloading webpage\n",
            "[youtube] 7ODgYpdTKaY: Downloading MPD manifest\n",
            "\u001b[0;33mWARNING:\u001b[0m Requested formats are incompatible for merge and will be merged into mkv.\n",
            "[dashsegments] Total fragments: 171\n",
            "[download] Destination: Guyton and Hall Medical Physiology (Chapter 1) REVIEW Homeostasis _ Study This!-7ODgYpdTKaY.f248.webm\n",
            "\u001b[K[download]  34.5% of ~138.70MiB at  6.65MiB/s ETA 01:19[download] Got server HTTP error: HTTP Error 404: Not Found. Retrying fragment 60 (attempt 1 of 10)...\n",
            "\u001b[K[download] 100% of 170.97MiB in 02:07\n",
            "[download] Destination: Guyton and Hall Medical Physiology (Chapter 1) REVIEW Homeostasis _ Study This!-7ODgYpdTKaY.f140.m4a\n",
            "\u001b[K[download] 100% of 14.01MiB in 00:00\n",
            "[ffmpeg] Merging formats into \"Guyton and Hall Medical Physiology (Chapter 1) REVIEW Homeostasis _ Study This!-7ODgYpdTKaY.mkv\"\n",
            "Deleting original file Guyton and Hall Medical Physiology (Chapter 1) REVIEW Homeostasis _ Study This!-7ODgYpdTKaY.f248.webm (pass -k to keep)\n",
            "Deleting original file Guyton and Hall Medical Physiology (Chapter 1) REVIEW Homeostasis _ Study This!-7ODgYpdTKaY.f140.m4a (pass -k to keep)\n",
            "[download] Downloading video 2 of 5\n",
            "[youtube] EqEPKGvG8_A: Downloading webpage\n",
            "[youtube] EqEPKGvG8_A: Downloading MPD manifest\n",
            "[download] Destination: Guyton and Hall Medical Physiology (Chapter 2) REVIEW The Cell _ Study This!-EqEPKGvG8_A.f137.mp4\n",
            "\u001b[K[download] 100% of 525.39MiB in 00:14\n",
            "[download] Destination: Guyton and Hall Medical Physiology (Chapter 2) REVIEW The Cell _ Study This!-EqEPKGvG8_A.f140.m4a\n",
            "\u001b[K[download] 100% of 18.80MiB in 00:00\n",
            "[ffmpeg] Merging formats into \"Guyton and Hall Medical Physiology (Chapter 2) REVIEW The Cell _ Study This!-EqEPKGvG8_A.mp4\"\n",
            "Deleting original file Guyton and Hall Medical Physiology (Chapter 2) REVIEW The Cell _ Study This!-EqEPKGvG8_A.f137.mp4 (pass -k to keep)\n",
            "Deleting original file Guyton and Hall Medical Physiology (Chapter 2) REVIEW The Cell _ Study This!-EqEPKGvG8_A.f140.m4a (pass -k to keep)\n",
            "[download] Downloading video 3 of 5\n",
            "[youtube] H4mF6h-s21s: Downloading webpage\n",
            "[youtube] H4mF6h-s21s: Downloading MPD manifest\n",
            "\u001b[0;33mWARNING:\u001b[0m Requested formats are incompatible for merge and will be merged into mkv.\n",
            "[dashsegments] Total fragments: 174\n",
            "[download] Destination: Guyton and Hall Medical Physiology (Chapter 3) REVIEW Genetic control _ Study This!-H4mF6h-s21s.f248.webm\n",
            "\u001b[K[download]  39.1% of ~153.69MiB at  5.17MiB/s ETA 01:27[download] Got server HTTP error: HTTP Error 404: Not Found. Retrying fragment 69 (attempt 1 of 10)...\n",
            "\u001b[K[download]  77.6% of ~165.05MiB at  5.73MiB/s ETA 00:32[download] Got server HTTP error: HTTP Error 404: Not Found. Retrying fragment 136 (attempt 1 of 10)...\n",
            "\u001b[K[download]  79.9% of ~165.21MiB at  5.16MiB/s ETA 00:29[download] Got server HTTP error: HTTP Error 404: Not Found. Retrying fragment 140 (attempt 1 of 10)...\n",
            "\u001b[K[download]  86.2% of ~165.93MiB at  5.48MiB/s ETA 00:20[download] Got server HTTP error: HTTP Error 404: Not Found. Retrying fragment 151 (attempt 1 of 10)...\n",
            "\u001b[K[download]  97.1% of ~165.88MiB at  5.94MiB/s ETA 00:04[download] Got server HTTP error: HTTP Error 404: Not Found. Retrying fragment 170 (attempt 1 of 10)...\n",
            "\u001b[K[download] 100% of 165.55MiB in 02:31\n",
            "[download] Destination: Guyton and Hall Medical Physiology (Chapter 3) REVIEW Genetic control _ Study This!-H4mF6h-s21s.f140.m4a\n",
            "\u001b[K[download] 100% of 14.27MiB in 00:00\n",
            "[ffmpeg] Merging formats into \"Guyton and Hall Medical Physiology (Chapter 3) REVIEW Genetic control _ Study This!-H4mF6h-s21s.mkv\"\n",
            "Deleting original file Guyton and Hall Medical Physiology (Chapter 3) REVIEW Genetic control _ Study This!-H4mF6h-s21s.f248.webm (pass -k to keep)\n",
            "Deleting original file Guyton and Hall Medical Physiology (Chapter 3) REVIEW Genetic control _ Study This!-H4mF6h-s21s.f140.m4a (pass -k to keep)\n",
            "[download] Downloading video 4 of 5\n",
            "[youtube] WmE0t_oFO78: Downloading webpage\n",
            "[youtube] WmE0t_oFO78: Downloading MPD manifest\n",
            "[download] Destination: Guyton and Hall Medical Physiology (Chapter 4) REVIEW Diffusion and Active Transport _ Study This!-WmE0t_oFO78.f137.mp4\n",
            "\u001b[K[download] 100% of 408.95MiB in 00:11\n",
            "[download] Destination: Guyton and Hall Medical Physiology (Chapter 4) REVIEW Diffusion and Active Transport _ Study This!-WmE0t_oFO78.f140.m4a\n",
            "\u001b[K[download] 100% of 12.22MiB in 00:00\n",
            "[ffmpeg] Merging formats into \"Guyton and Hall Medical Physiology (Chapter 4) REVIEW Diffusion and Active Transport _ Study This!-WmE0t_oFO78.mp4\"\n",
            "Deleting original file Guyton and Hall Medical Physiology (Chapter 4) REVIEW Diffusion and Active Transport _ Study This!-WmE0t_oFO78.f137.mp4 (pass -k to keep)\n",
            "Deleting original file Guyton and Hall Medical Physiology (Chapter 4) REVIEW Diffusion and Active Transport _ Study This!-WmE0t_oFO78.f140.m4a (pass -k to keep)\n",
            "[download] Downloading video 5 of 5\n",
            "[youtube] rc6pwX8GpcY: Downloading webpage\n",
            "[youtube] rc6pwX8GpcY: Downloading MPD manifest\n",
            "[download] Destination: Guyton and Hall Medical Physiology (Chapter 5) REVIEW Action Potentials _ Study This!-rc6pwX8GpcY.f136.mp4\n",
            "\u001b[K[download] 100% of 204.50MiB in 00:06\n",
            "[download] Destination: Guyton and Hall Medical Physiology (Chapter 5) REVIEW Action Potentials _ Study This!-rc6pwX8GpcY.f140.m4a\n",
            "\u001b[K[download] 100% of 14.68MiB in 00:00\n",
            "[ffmpeg] Merging formats into \"Guyton and Hall Medical Physiology (Chapter 5) REVIEW Action Potentials _ Study This!-rc6pwX8GpcY.mp4\"\n",
            "Deleting original file Guyton and Hall Medical Physiology (Chapter 5) REVIEW Action Potentials _ Study This!-rc6pwX8GpcY.f136.mp4 (pass -k to keep)\n",
            "Deleting original file Guyton and Hall Medical Physiology (Chapter 5) REVIEW Action Potentials _ Study This!-rc6pwX8GpcY.f140.m4a (pass -k to keep)\n",
            "[download] Finished downloading playlist: Guyton and Hall Medical physiology\n"
          ],
          "name": "stdout"
        }
      ]
    }
  ]
}